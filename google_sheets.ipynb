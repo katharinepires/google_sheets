{
 "cells": [
  {
   "cell_type": "code",
   "execution_count": 1,
   "metadata": {},
   "outputs": [],
   "source": [
    "import gspread"
   ]
  },
  {
   "cell_type": "code",
   "execution_count": 2,
   "metadata": {},
   "outputs": [],
   "source": [
    "from oauth2client.service_account import ServiceAccountCredentials"
   ]
  },
  {
   "cell_type": "code",
   "execution_count": 3,
   "metadata": {},
   "outputs": [],
   "source": [
    "escopo = ['https://spreadsheets.google.com/feeds']\n",
    "credenciais = ServiceAccountCredentials.from_json_keyfile_name('Curso de Python-95240650de22.json', escopo)\n",
    "cliente = gspread.authorize(credenciais)"
   ]
  },
  {
   "cell_type": "code",
   "execution_count": 4,
   "metadata": {},
   "outputs": [],
   "source": [
    "planilha = cliente.open_by_key('1daFQNSEHYNAKvIcGI5Gjl92hgGW9ZO5NAvpf4x08HIc')\n",
    "pasta1 = planilha.sheet1"
   ]
  },
  {
   "cell_type": "code",
   "execution_count": 5,
   "metadata": {},
   "outputs": [
    {
     "name": "stdout",
     "output_type": "stream",
     "text": [
      "[{'Nome': 'Maria Ana', 'Curso': 'Medicina', 'Em andamento': 'Em andamento'}, {'Nome': 'Carlos Alberto', 'Curso': 'Direito', 'Em andamento': 'Em andamento'}, {'Nome': 'Claudemir Júnior', 'Curso': 'Direito', 'Em andamento': 'Em andamento'}, {'Nome': 'Katharine Pires', 'Curso': 'Economia', 'Em andamento': 'Em andamento'}, {'Nome': 'Vera Lúcia', 'Curso': 'Tec. Enfermagem', 'Em andamento': 'Em andamento'}]\n"
     ]
    }
   ],
   "source": [
    "lista_registros = pasta1.get_all_records()\n",
    "print(lista_registros)"
   ]
  },
  {
   "cell_type": "code",
   "execution_count": 6,
   "metadata": {},
   "outputs": [
    {
     "name": "stdout",
     "output_type": "stream",
     "text": [
      "Linha 1: ['Nome', 'Curso', 'Em andamento']\n",
      "Linha 4: ['Claudemir Júnior', 'Direito', 'Em andamento']\n"
     ]
    }
   ],
   "source": [
    "print(f\"Linha 1: {pasta1.row_values(1)}\")\n",
    "print(f\"Linha 4: {pasta1.row_values(4)}\")"
   ]
  },
  {
   "cell_type": "code",
   "execution_count": 7,
   "metadata": {},
   "outputs": [
    {
     "name": "stdout",
     "output_type": "stream",
     "text": [
      "Coluna B: ['Nome', 'Maria Ana', 'Carlos Alberto', 'Claudemir Júnior', 'Katharine Pires', 'Vera Lúcia']\n",
      "Coluna D: []\n"
     ]
    }
   ],
   "source": [
    "print(f\"Coluna B: {pasta1.col_values(1)}\")\n",
    "print(f\"Coluna D: {pasta1.col_values(4)}\")"
   ]
  },
  {
   "cell_type": "code",
   "execution_count": 8,
   "metadata": {},
   "outputs": [
    {
     "name": "stdout",
     "output_type": "stream",
     "text": [
      "Célula B5: Economia\n"
     ]
    }
   ],
   "source": [
    "print(f\"Célula B5: {pasta1.cell(5,2).value}\")"
   ]
  },
  {
   "cell_type": "code",
   "execution_count": 9,
   "metadata": {},
   "outputs": [
    {
     "name": "stdout",
     "output_type": "stream",
     "text": [
      "Célula A2: Maria Ana\n"
     ]
    }
   ],
   "source": [
    "print(f\"Célula A2: {pasta1.acell('A2').value}\")"
   ]
  },
  {
   "cell_type": "code",
   "execution_count": 10,
   "metadata": {},
   "outputs": [
    {
     "data": {
      "text/plain": [
       "{'spreadsheetId': '1daFQNSEHYNAKvIcGI5Gjl92hgGW9ZO5NAvpf4x08HIc',\n",
       " 'updatedRange': \"'Página1'!A4\",\n",
       " 'updatedRows': 1,\n",
       " 'updatedColumns': 1,\n",
       " 'updatedCells': 1}"
      ]
     },
     "execution_count": 10,
     "metadata": {},
     "output_type": "execute_result"
    }
   ],
   "source": [
    "pasta1.update_cell(4,1, \"Claudemir Júnior\")"
   ]
  },
  {
   "cell_type": "code",
   "execution_count": 11,
   "metadata": {},
   "outputs": [
    {
     "data": {
      "text/plain": [
       "{'spreadsheetId': '1daFQNSEHYNAKvIcGI5Gjl92hgGW9ZO5NAvpf4x08HIc',\n",
       " 'updatedRange': \"'Página1'!C1:C6\",\n",
       " 'updatedRows': 6,\n",
       " 'updatedColumns': 1,\n",
       " 'updatedCells': 6}"
      ]
     },
     "execution_count": 11,
     "metadata": {},
     "output_type": "execute_result"
    }
   ],
   "source": [
    "alterar_intervalo = pasta1.range('C1:C6')\n",
    "\n",
    "for celula in alterar_intervalo:\n",
    "    celula.value = \"Em andamento\"\n",
    "\n",
    "pasta1.update_cells(alterar_intervalo)"
   ]
  },
  {
   "cell_type": "code",
   "execution_count": 12,
   "metadata": {},
   "outputs": [
    {
     "data": {
      "text/plain": [
       "{'spreadsheetId': '1daFQNSEHYNAKvIcGI5Gjl92hgGW9ZO5NAvpf4x08HIc',\n",
       " 'updatedRange': \"'Página1'!A7:C7\",\n",
       " 'updatedRows': 1,\n",
       " 'updatedColumns': 3,\n",
       " 'updatedCells': 3}"
      ]
     },
     "execution_count": 12,
     "metadata": {},
     "output_type": "execute_result"
    }
   ],
   "source": [
    "inserir_linha = [\"Sarah Sousa\", \"Contadora\", \"Concluído\"]\n",
    "indice = 7\n",
    "pasta1.insert_row(inserir_linha, indice)"
   ]
  },
  {
   "cell_type": "code",
   "execution_count": 13,
   "metadata": {},
   "outputs": [
    {
     "data": {
      "text/plain": [
       "<Worksheet 'Estágio' id:1024989905>"
      ]
     },
     "execution_count": 13,
     "metadata": {},
     "output_type": "execute_result"
    }
   ],
   "source": [
    "planilha.add_worksheet(\"Estágio\", 14,6)"
   ]
  },
  {
   "cell_type": "code",
   "execution_count": 14,
   "metadata": {},
   "outputs": [
    {
     "name": "stdout",
     "output_type": "stream",
     "text": [
      "Economia\n"
     ]
    }
   ],
   "source": [
    "celula = pasta1.find(\"Economia\")\n",
    "print(celula.value)"
   ]
  },
  {
   "cell_type": "code",
   "execution_count": 16,
   "metadata": {},
   "outputs": [
    {
     "name": "stderr",
     "output_type": "stream",
     "text": [
      "C:\\Users\\Katharine\\anaconda3\\lib\\site-packages\\ipykernel_launcher.py:1: DeprecationWarning: Worksheet.delete_row() is deprecated, Please use `Worksheet.delete_rows()` instead.\n",
      "  \"\"\"Entry point for launching an IPython kernel.\n"
     ]
    },
    {
     "data": {
      "text/plain": [
       "{'spreadsheetId': '1daFQNSEHYNAKvIcGI5Gjl92hgGW9ZO5NAvpf4x08HIc',\n",
       " 'replies': [{}]}"
      ]
     },
     "execution_count": 16,
     "metadata": {},
     "output_type": "execute_result"
    }
   ],
   "source": [
    "pasta1.delete_row(3)"
   ]
  },
  {
   "cell_type": "code",
   "execution_count": 17,
   "metadata": {},
   "outputs": [
    {
     "data": {
      "text/plain": [
       "{'spreadsheetId': '1daFQNSEHYNAKvIcGI5Gjl92hgGW9ZO5NAvpf4x08HIc',\n",
       " 'replies': [{}]}"
      ]
     },
     "execution_count": 17,
     "metadata": {},
     "output_type": "execute_result"
    }
   ],
   "source": [
    "apagar_planilha = planilha.worksheet(\"Estágio\")\n",
    "planilha.del_worksheet(apagar_planilha)"
   ]
  },
  {
   "cell_type": "code",
   "execution_count": null,
   "metadata": {},
   "outputs": [],
   "source": []
  }
 ],
 "metadata": {
  "kernelspec": {
   "display_name": "Python 3",
   "language": "python",
   "name": "python3"
  },
  "language_info": {
   "codemirror_mode": {
    "name": "ipython",
    "version": 3
   },
   "file_extension": ".py",
   "mimetype": "text/x-python",
   "name": "python",
   "nbconvert_exporter": "python",
   "pygments_lexer": "ipython3",
   "version": "3.7.6"
  }
 },
 "nbformat": 4,
 "nbformat_minor": 4
}
